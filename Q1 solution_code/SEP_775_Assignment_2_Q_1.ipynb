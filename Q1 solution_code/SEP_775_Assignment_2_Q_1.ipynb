{
  "cells": [
    {
      "cell_type": "markdown",
      "metadata": {
        "id": "bglmj68WjOd9"
      },
      "source": [
        "#**SEP 775 Assignment - 2**\n",
        "                        \n",
        "**Student: Rutvik Roy**\\\n",
        "**Student ID: 400490159**\n"
      ]
    },
    {
      "cell_type": "markdown",
      "metadata": {
        "id": "CKvMaFl7kGqb"
      },
      "source": [
        "# Q-1 RNN-Based Text Generationn\n",
        "\n",
        "• Implement a basic Recurrent Neural Network model from scratch using PyTorch or\n",
        "TensorFlow. Your model should include an embedding layer, at least one RNN layer\n",
        "and a fully connected layer for output. Refer to the \"Recurrent Neural Networks\n",
        "(RNN)\"section of the lectures for guidance on the architecture.\n",
        "\n",
        "• Use the \"Long Short-Term Memory RNNs (LSTMs)\"section as a reference to enhance\n",
        "your model with LSTM cells to improve its ability to capture long-term dependencies\n",
        "in text."
      ]
    },
    {
      "cell_type": "code",
      "execution_count": null,
      "metadata": {
        "colab": {
          "base_uri": "https://localhost:8080/"
        },
        "id": "x4Q7Ir9vjNUk",
        "outputId": "fda39009-126b-459d-bcf3-882d0088c5a1"
      },
      "outputs": [
        {
          "name": "stdout",
          "output_type": "stream",
          "text": [
            "Requirement already satisfied: torch in /usr/local/lib/python3.10/dist-packages (2.1.0+cu121)\n",
            "Requirement already satisfied: filelock in /usr/local/lib/python3.10/dist-packages (from torch) (3.13.1)\n",
            "Requirement already satisfied: typing-extensions in /usr/local/lib/python3.10/dist-packages (from torch) (4.9.0)\n",
            "Requirement already satisfied: sympy in /usr/local/lib/python3.10/dist-packages (from torch) (1.12)\n",
            "Requirement already satisfied: networkx in /usr/local/lib/python3.10/dist-packages (from torch) (3.2.1)\n",
            "Requirement already satisfied: jinja2 in /usr/local/lib/python3.10/dist-packages (from torch) (3.1.3)\n",
            "Requirement already satisfied: fsspec in /usr/local/lib/python3.10/dist-packages (from torch) (2023.6.0)\n",
            "Requirement already satisfied: triton==2.1.0 in /usr/local/lib/python3.10/dist-packages (from torch) (2.1.0)\n",
            "Requirement already satisfied: MarkupSafe>=2.0 in /usr/local/lib/python3.10/dist-packages (from jinja2->torch) (2.1.5)\n",
            "Requirement already satisfied: mpmath>=0.19 in /usr/local/lib/python3.10/dist-packages (from sympy->torch) (1.3.0)\n",
            "Requirement already satisfied: nltk in /usr/local/lib/python3.10/dist-packages (3.8.1)\n",
            "Requirement already satisfied: click in /usr/local/lib/python3.10/dist-packages (from nltk) (8.1.7)\n",
            "Requirement already satisfied: joblib in /usr/local/lib/python3.10/dist-packages (from nltk) (1.3.2)\n",
            "Requirement already satisfied: regex>=2021.8.3 in /usr/local/lib/python3.10/dist-packages (from nltk) (2023.12.25)\n",
            "Requirement already satisfied: tqdm in /usr/local/lib/python3.10/dist-packages (from nltk) (4.66.2)\n",
            "Requirement already satisfied: matplotlib in /usr/local/lib/python3.10/dist-packages (3.7.1)\n",
            "Requirement already satisfied: contourpy>=1.0.1 in /usr/local/lib/python3.10/dist-packages (from matplotlib) (1.2.0)\n",
            "Requirement already satisfied: cycler>=0.10 in /usr/local/lib/python3.10/dist-packages (from matplotlib) (0.12.1)\n",
            "Requirement already satisfied: fonttools>=4.22.0 in /usr/local/lib/python3.10/dist-packages (from matplotlib) (4.48.1)\n",
            "Requirement already satisfied: kiwisolver>=1.0.1 in /usr/local/lib/python3.10/dist-packages (from matplotlib) (1.4.5)\n",
            "Requirement already satisfied: numpy>=1.20 in /usr/local/lib/python3.10/dist-packages (from matplotlib) (1.25.2)\n",
            "Requirement already satisfied: packaging>=20.0 in /usr/local/lib/python3.10/dist-packages (from matplotlib) (23.2)\n",
            "Requirement already satisfied: pillow>=6.2.0 in /usr/local/lib/python3.10/dist-packages (from matplotlib) (9.4.0)\n",
            "Requirement already satisfied: pyparsing>=2.3.1 in /usr/local/lib/python3.10/dist-packages (from matplotlib) (3.1.1)\n",
            "Requirement already satisfied: python-dateutil>=2.7 in /usr/local/lib/python3.10/dist-packages (from matplotlib) (2.8.2)\n",
            "Requirement already satisfied: six>=1.5 in /usr/local/lib/python3.10/dist-packages (from python-dateutil>=2.7->matplotlib) (1.16.0)\n"
          ]
        }
      ],
      "source": [
        "!pip install torch\n",
        "!pip install nltk\n",
        "!pip install matplotlib"
      ]
    },
    {
      "cell_type": "code",
      "execution_count": null,
      "metadata": {
        "colab": {
          "base_uri": "https://localhost:8080/"
        },
        "id": "1bKc3hNxkzD3",
        "outputId": "1918c405-4366-403a-cd73-f6e20feb6bec"
      },
      "outputs": [
        {
          "name": "stderr",
          "output_type": "stream",
          "text": [
            "[nltk_data] Downloading package stopwords to /root/nltk_data...\n",
            "[nltk_data]   Unzipping corpora/stopwords.zip.\n"
          ]
        },
        {
          "data": {
            "text/plain": [
              "True"
            ]
          },
          "execution_count": 1,
          "metadata": {},
          "output_type": "execute_result"
        }
      ],
      "source": [
        "import torch\n",
        "import torch.nn as nn\n",
        "import requests\n",
        "import re\n",
        "import matplotlib.pyplot as plt\n",
        "import nltk\n",
        "#nltk.download('stopwords')\n"
      ]
    },
    {
      "cell_type": "code",
      "execution_count": null,
      "metadata": {
        "colab": {
          "base_uri": "https://localhost:8080/"
        },
        "id": "vtpbaFwYk4wY",
        "outputId": "af327520-dcbb-4f86-ea74-2cd20dbd8586"
      },
      "outputs": [
        {
          "name": "stdout",
          "output_type": "stream",
          "text": [
            "Twinkle, twinkle, little star,\r\n",
            "How I wonder what you are!\r\n",
            "Up above the world so high,\r\n",
            "Like a diamond in the sky.\r\n",
            "\r\n",
            "When the blazing sun is gone,\r\n",
            "When he nothing shines upon,\r\n",
            "Then you show your little light,\r\n",
            "Twinkle, twinkle, all the night.\r\n",
            "\r\n",
            "Then the traveler in the dark\r\n",
            "Thanks you for your tiny spark,\r\n",
            "How could he see where to go,\r\n",
            "If you did not twinkle so?\r\n",
            "\r\n",
            "In the dark blue sky you keep,\r\n",
            "Often through my curtains peep\r\n",
            "For you never shut your eye,\r\n",
            "Till the sun is in the sky.\r\n",
            "\r\n",
            "As your bright and tiny spark\r\n",
            "Lights the traveler in the dark,\r\n",
            "Though I know not what you are,\r\n",
            "Twinkle, twinkle, little star.\n",
            "['twinkle ', 'twinkle ', 'little', 'star ', 'how', 'i', 'wonder', 'what', 'you', 'are ', 'up', 'above', 'the', 'world', 'so', 'high ', 'like', 'a', 'diamond', 'in', 'the', 'sky ', 'when', 'the', 'blazing', 'sun', 'is', 'gone ', 'when', 'he', 'nothing', 'shines', 'upon ', 'then', 'you', 'show', 'your', 'little', 'light ', 'twinkle ', 'twinkle ', 'all', 'the', 'night ', 'then', 'the', 'traveler', 'in', 'the', 'dark', 'thanks', 'you', 'for', 'your', 'tiny', 'spark ', 'how', 'could', 'he', 'see', 'where', 'to', 'go ', 'if', 'you', 'did', 'not', 'twinkle', 'so ', 'in', 'the', 'dark', 'blue', 'sky', 'you', 'keep ', 'often', 'through', 'my', 'curtains', 'peep', 'for', 'you', 'never', 'shut', 'your', 'eye ', 'till', 'the', 'sun', 'is', 'in', 'the', 'sky ', 'as', 'your', 'bright', 'and', 'tiny', 'spark', 'lights', 'the', 'traveler', 'in', 'the', 'dark ', 'though', 'i', 'know', 'not', 'what', 'you', 'are ', 'twinkle ', 'twinkle ', 'little', 'star ']\n"
          ]
        }
      ],
      "source": [
        "#text data from a file loaded on Google Drive\n",
        "\n",
        "file_id='1I-Hw6RHgl2tMwLy6mJ40nSVk7P2wjfFi'\n",
        "url= f\"https://drive.google.com/uc?export=download&id={file_id}\"\n",
        "response=requests.get(url)\n",
        "data=response.text\n",
        "\n",
        "print(data)\n",
        "\n",
        "\n",
        "###  data preprocessing steps ###\n",
        "\n",
        "def string_to_tokens(text):\n",
        "  return text.split()\n",
        "\n",
        "def lowercase_the_tokens(tokens):\n",
        "  return [token.lower() for token in tokens]\n",
        "\n",
        "def remove_unncessary_symbol(tokens):\n",
        "  return [re.sub(r'[^\\w\\s]',\" \",token) for token in tokens]\n",
        "\n",
        "def remove_stop_words(tokens):\n",
        "  stop_words_in_nltk=set(nltk.corpus.stopwords.words(\"english\"))\n",
        "  return[token for token in tokens if token not in stop_words_in_nltk]\n",
        "\n",
        "def preprocess_data(data):\n",
        "  tokens=string_to_tokens(data)\n",
        "  tokens=lowercase_the_tokens(tokens)\n",
        "  tokens=remove_unncessary_symbol(tokens)\n",
        "  #tokens=remove_stop_words(tokens)\n",
        "  return tokens\n",
        "\n",
        "tokens=preprocess_data(data)\n",
        "print(tokens)"
      ]
    },
    {
      "cell_type": "code",
      "execution_count": null,
      "metadata": {
        "id": "8n37M1ZyFH5g"
      },
      "outputs": [],
      "source": [
        "#vocab building\n",
        "\n",
        "vocab=list(set(tokens))\n",
        "vocab.append(\".\")\n",
        "\n",
        "vocab_size=len(vocab)\n",
        "word_to_index={word:i for i,word in enumerate(vocab)}\n",
        "index_to_word={i:word for i,word in enumerate(vocab)}"
      ]
    },
    {
      "cell_type": "markdown",
      "metadata": {
        "id": "ZxGO8pNTzXNN"
      },
      "source": [
        "# **RNN (Simple RNN)**"
      ]
    },
    {
      "cell_type": "code",
      "execution_count": null,
      "metadata": {
        "id": "l29HzfxTIMG1"
      },
      "outputs": [],
      "source": [
        "#RNN implimentation (Simple RNN)\n",
        "\n",
        "class RNNSimple(nn.Module):\n",
        "\n",
        "  def __init__(self,vocab_size,embedding_dim,hidden_dim,output_dim,num_layers):\n",
        "    super().__init__()\n",
        "\n",
        "    self.embedding=nn.Embedding(vocab_size,embedding_dim)\n",
        "    self.rnn=nn.RNN(embedding_dim,hidden_dim, num_layers=num_layers)\n",
        "    self.linear=nn.Linear(hidden_dim,output_dim)\n",
        "\n",
        "\n",
        "  def forward(self,input):\n",
        "\n",
        "    word_index=[word_to_index[w] for w in input]\n",
        "    embedding=self.embedding(torch.tensor(word_index))\n",
        "    out,h=self.rnn(embedding)\n",
        "    out=self.linear(out)\n",
        "\n",
        "    return out"
      ]
    },
    {
      "cell_type": "code",
      "execution_count": null,
      "metadata": {
        "id": "AdtljtIjg9Y9"
      },
      "outputs": [],
      "source": [
        "embedding_dim,hidden_dim,output_dim,num_layers = 100,150,vocab_size,5\n",
        "\n",
        "simple_rnn_model=RNNSimple(vocab_size,embedding_dim,hidden_dim,output_dim,num_layers)"
      ]
    },
    {
      "cell_type": "code",
      "execution_count": null,
      "metadata": {
        "colab": {
          "base_uri": "https://localhost:8080/",
          "height": 466
        },
        "id": "6wMea7aogVj6",
        "outputId": "d42e1bf8-9185-4053-e320-a87f4c764fd7"
      },
      "outputs": [
        {
          "data": {
            "text/plain": [
              "Text(0, 0.5, 'Training Loss')"
            ]
          },
          "execution_count": 7,
          "metadata": {},
          "output_type": "execute_result"
        },
        {
          "data": {
            "image/png": "[encoded data removed]",
            "text/plain": [
              "<Figure size 640x480 with 1 Axes>"
            ]
          },
          "metadata": {},
          "output_type": "display_data"
        }
      ],
      "source": [
        "# sequence size\n",
        "sequence_size=3\n",
        "\n",
        "#batch size\n",
        "batch_size=int(len(tokens)/sequence_size)\n",
        "\n",
        "#optimizer object\n",
        "optimizer=torch.optim.Adagrad(simple_rnn_model.parameters(),lr=0.001)\n",
        "\n",
        "#cross entropy object\n",
        "loss=nn.CrossEntropyLoss()\n",
        "\n",
        "simple_rnn_model.train()\n",
        "num_epochs = 1000\n",
        "LOSS=[]\n",
        "\n",
        "for epoch in range(num_epochs):\n",
        "  pointer=0\n",
        "  running_loss=0\n",
        "  for batch in range(batch_size):\n",
        "\n",
        "    start=pointer\n",
        "    end=pointer+sequence_size\n",
        "\n",
        "    #model input tokens\n",
        "    input=tokens[start:end]\n",
        "\n",
        "    #model target tokens\n",
        "    target=tokens[start+1:end+1]\n",
        "\n",
        "    out=simple_rnn_model.forward(input)\n",
        "\n",
        "    #one hot vector of target tokens for measurement of loss\n",
        "    target=nn.functional.one_hot(torch.tensor([word_to_index[w] for w in target]),vocab_size).type(\"torch.FloatTensor\")\n",
        "\n",
        "    optimizer.zero_grad()\n",
        "\n",
        "    batch_loss=loss(out,target)\n",
        "    batch_loss.backward(retain_graph=True)\n",
        "\n",
        "    optimizer.step()\n",
        "\n",
        "    pointer=pointer+sequence_size\n",
        "    running_loss += batch_loss.item()\n",
        "\n",
        "    if pointer+sequence_size+1> batch_size:\n",
        "      break\n",
        "\n",
        "  LOSS.append(running_loss / batch_size)\n",
        "  #print('Epoch [{}/{}], Average Loss: {:.4f}'.format(epoch+1, num_epochs, running_loss / batch_size))\n",
        "\n",
        "\n",
        "#Plot loss\n",
        "plt.plot([i for i in range(num_epochs)],LOSS)\n",
        "plt.xlabel(\"Epochs\")\n",
        "plt.ylabel(\"Training Loss\")"
      ]
    },
    {
      "cell_type": "code",
      "execution_count": null,
      "metadata": {
        "id": "VfUfzlG_pno5"
      },
      "outputs": [],
      "source": [
        "#save the model. I have alread saved model's weights and provided in zip file. So, I have comment out this cell line\n",
        "#torch.save(simple_rnn_model.state_dict(), 'Simple_RNN_model_weights.pth')"
      ]
    },
    {
      "cell_type": "code",
      "execution_count": null,
      "metadata": {
        "colab": {
          "base_uri": "https://localhost:8080/"
        },
        "id": "y7QZ8Ac7wZrQ",
        "outputId": "5d156a20-ea84-4e6b-f2d5-02d9292cf3d2"
      },
      "outputs": [
        {
          "name": "stdout",
          "output_type": "stream",
          "text": [
            "twinkle  twinkle  little star  star  i i wonder what you are  up above the blazing sun is gone  when he nothing shines upon  then you show your shines the world so high  like a diamond in the sky  when the blazing sun is gone  when he nothing shines upon  then you show your shines the world so high  like a diamond in the sky  when the blazing sun is gone  when he nothing shines upon  then you show your shines the world so high  like a diamond in the sky  when the blazing sun is gone  when he nothing shines upon \n"
          ]
        }
      ],
      "source": [
        "# Load the saved model (saved weights)\n",
        "embedding_dim,hidden_dim,output_dim,num_layers = 100,150,vocab_size,5\n",
        "loaded_model=RNNSimple(vocab_size,embedding_dim,hidden_dim,output_dim,num_layers)\n",
        "loaded_model.load_state_dict(torch.load('Simple_RNN_model_weights.pth'))\n",
        "\n",
        "# Set the model to evaluation mode\n",
        "loaded_model.eval()\n",
        "\n",
        "#first word to be ingested into trained model\n",
        "word=tokens[0:1]\n",
        "\n",
        "for i in range(100):\n",
        "\n",
        "  # Make predictions\n",
        "  with torch.no_grad():\n",
        "      prediction = loaded_model(word)\n",
        "\n",
        "      soft=nn.Softmax(dim=0)\n",
        "      out=soft(prediction[-1])\n",
        "\n",
        "      #take the highest probable one\n",
        "      o=torch.argmax(out)\n",
        "      predicted_word=index_to_word[o.item()]\n",
        "      word.append(predicted_word)\n",
        "\n",
        "#Print predicted 100 words\n",
        "print(' '.join(word))"
      ]
    },
    {
      "cell_type": "markdown",
      "metadata": {
        "id": "cv9kmk4lykq5"
      },
      "source": [
        "# **LSTM (Enhanced RNN)**"
      ]
    },
    {
      "cell_type": "code",
      "execution_count": null,
      "metadata": {
        "id": "v8qSxMcItbld"
      },
      "outputs": [],
      "source": [
        "#RNN implimentation (LSTM)\n",
        "\n",
        "class LSTM(nn.Module):\n",
        "\n",
        "  def __init__(self,vocab_size,embedding_dim,hidden_dim,output_dim,num_layers):\n",
        "    super().__init__()\n",
        "\n",
        "    self.embedding=nn.Embedding(vocab_size,embedding_dim)\n",
        "    self.rnn=nn.LSTM(embedding_dim,hidden_dim, num_layers=num_layers)\n",
        "    self.linear=nn.Linear(hidden_dim,output_dim)\n",
        "    self.drop=nn.Dropout(0.3)\n",
        "\n",
        "\n",
        "  def forward(self,input):\n",
        "\n",
        "    word_index=[word_to_index[w] for w in input]\n",
        "    embedding=self.embedding(torch.tensor(word_index))\n",
        "    out,(h,c)=self.rnn(embedding)\n",
        "    out=self.linear(out)\n",
        "\n",
        "    return out"
      ]
    },
    {
      "cell_type": "code",
      "execution_count": null,
      "metadata": {
        "id": "UgbCQAr--Gmj"
      },
      "outputs": [],
      "source": [
        "embedding_dim,hidden_dim,output_dim,num_layers = 100,150,vocab_size,5\n",
        "LSTM_model=LSTM(vocab_size,embedding_dim,hidden_dim,output_dim,num_layers)"
      ]
    },
    {
      "cell_type": "code",
      "execution_count": null,
      "metadata": {
        "id": "LA5SC6I5ouzq"
      },
      "outputs": [],
      "source": [
        "sequence_size=3\n",
        "batch_size=int(len(tokens)/sequence_size)\n",
        "\n",
        "optimizer=torch.optim.Adagrad(LSTM_model.parameters(),lr=0.001)\n",
        "loss=nn.CrossEntropyLoss()\n",
        "\n",
        "LSTM_model.train()\n",
        "num_epochs = 1000\n",
        "LOSS1=[]\n",
        "for epoch in range(num_epochs):\n",
        "\n",
        "  pointer=0\n",
        "  running_loss1=0\n",
        "\n",
        "  for batch in range(batch_size):\n",
        "\n",
        "    start=pointer\n",
        "    end=pointer+sequence_size\n",
        "\n",
        "    input=tokens[start:end]\n",
        "    target=tokens[start+1:end+1]\n",
        "\n",
        "    out=LSTM_model.forward(input)\n",
        "    target=nn.functional.one_hot(torch.tensor([word_to_index[w] for w in target]),vocab_size).type(\"torch.FloatTensor\")\n",
        "\n",
        "    optimizer.zero_grad()\n",
        "\n",
        "    batch_loss1=loss(out,target)\n",
        "    batch_loss1.backward(retain_graph=True)\n",
        "\n",
        "    optimizer.step()\n",
        "\n",
        "    pointer=pointer+sequence_size\n",
        "    running_loss1 += batch_loss.item()\n",
        "\n",
        "    if pointer+sequence_size+1> batch_size:\n",
        "      break\n",
        "\n",
        "  LOSS1.append(running_loss1 / batch_size)\n",
        "  #print('Epoch [{}/{}], Average Loss: {:.4f}'.format(epoch+1, num_epochs, running_loss / batch_size))"
      ]
    },
    {
      "cell_type": "code",
      "execution_count": null,
      "metadata": {
        "colab": {
          "base_uri": "https://localhost:8080/",
          "height": 489
        },
        "id": "XDmFSx7xFzwP",
        "outputId": "aef4e808-571c-4e76-ee6d-9e22fe70ef46"
      },
      "outputs": [
        {
          "data": {
            "text/plain": [
              "Text(0.5, 1.0, 'LSTM Model')"
            ]
          },
          "execution_count": 38,
          "metadata": {},
          "output_type": "execute_result"
        },
        {
          "data": {
            "image/png": "[encoded data removed]",
            "text/plain": [
              "<Figure size 640x480 with 1 Axes>"
            ]
          },
          "metadata": {},
          "output_type": "display_data"
        }
      ],
      "source": [
        "#Plot loss\n",
        "plt.plot([i for i in range(num_epochs)],LOSS1)\n",
        "plt.xlabel(\"Epochs\")\n",
        "plt.ylabel(\"Training Loss\")\n",
        "plt.title(\"LSTM Model\")"
      ]
    },
    {
      "cell_type": "code",
      "execution_count": null,
      "metadata": {
        "id": "vMk8zogR0FIN"
      },
      "outputs": [],
      "source": [
        "#save the model\n",
        "#torch.save(LSTM_model.state_dict(), 'LSTM_model_weights.pth')"
      ]
    },
    {
      "cell_type": "code",
      "execution_count": null,
      "metadata": {
        "colab": {
          "base_uri": "https://localhost:8080/"
        },
        "id": "yHbfXWpz0Nx6",
        "outputId": "5ef9d65e-3951-4081-8626-b6e4a2be707e"
      },
      "outputs": [
        {
          "name": "stdout",
          "output_type": "stream",
          "text": [
            "twinkle  twinkle  little star  star  star  sky  sky  sky  sky  sky  sky  sky  sky  sky  sky  sky  sky  sky  sky  sky  sky  sky  sky  sky  sky  sky  sky  sky  sky  sky  sky  sky  sky  sky  sky  sky  sky  sky  sky  the the the the the the the the the the the the the the the the the the the the the the the the the the the the the the the the the the the the the the the the the the the the the the the the the the the the the the the the the the the the the\n"
          ]
        }
      ],
      "source": [
        "# Load the saved model\n",
        "embedding_dim,hidden_dim,output_dim,num_layers = 100,150,vocab_size,5\n",
        "loaded_LSTM_model=LSTM(vocab_size,embedding_dim,hidden_dim,output_dim,num_layers)\n",
        "loaded_LSTM_model.load_state_dict(torch.load('LSTM_model_weights.pth'))\n",
        "\n",
        "# Set the model to evaluation mode\n",
        "loaded_LSTM_model.eval()\n",
        "\n",
        "#first word to be ingested into trained model\n",
        "word=tokens[0:1]\n",
        "\n",
        "for i in range(100):\n",
        "\n",
        "  # Make predictions\n",
        "  with torch.no_grad():\n",
        "      prediction = loaded_LSTM_model(word)\n",
        "\n",
        "      soft=nn.Softmax(dim=0)\n",
        "      out=soft(prediction[-1])\n",
        "\n",
        "      #take the highest probable one\n",
        "      o=torch.argmax(out)\n",
        "      predicted_word=index_to_word[o.item()]\n",
        "      word.append(predicted_word)\n",
        "\n",
        "#Print predicted 100 words\n",
        "print(' '.join(word))"
      ]
    },
    {
      "cell_type": "code",
      "execution_count": null,
      "metadata": {
        "id": "t8wQGCNNFxwf"
      },
      "outputs": [],
      "source": []
    }
  ],
  "metadata": {
    "colab": {
      "provenance": []
    },
    "kernelspec": {
      "display_name": "Python 3",
      "name": "python3"
    },
    "language_info": {
      "name": "python"
    }
  },
  "nbformat": 4,
  "nbformat_minor": 0
}
